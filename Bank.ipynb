{
 "cells": [
  {
   "cell_type": "markdown",
   "id": "2724080e-8c98-49db-a0c3-310a2bf9d0c1",
   "metadata": {},
   "source": [
    "# Testing bias metrics and mitigation algorithms on the Bank dataset"
   ]
  },
  {
   "cell_type": "code",
   "execution_count": 1,
   "id": "f106aea7-6da0-4669-a288-59f55138ac05",
   "metadata": {
    "tags": []
   },
   "outputs": [],
   "source": [
    "import numpy as np\n",
    "import pandas as pd\n",
    "import matplotlib.pyplot as plt\n",
    "import seaborn as sns\n",
    "import itertools\n",
    "from numpy.random import default_rng\n",
    "from collections import OrderedDict\n",
    "from copy import deepcopy\n",
    "sns.set_theme(style='darkgrid')\n",
    "\n",
    "from sklearn.datasets import make_classification\n",
    "from sklearn.linear_model import LogisticRegression\n",
    "from sklearn.model_selection import cross_val_score, KFold\n",
    "from sklearn.pipeline import make_pipeline, Pipeline\n",
    "from sklearn.preprocessing import StandardScaler, MinMaxScaler, LabelEncoder, OrdinalEncoder\n",
    "from sklearn.metrics import confusion_matrix, classification_report\n",
    "from sklearn.utils.multiclass import unique_labels\n",
    "\n",
    "from aif360.metrics import BinaryLabelDatasetMetric, ClassificationMetric\n",
    "from aif360.datasets import BinaryLabelDataset, BankDataset\n",
    "from aif360.algorithms.preprocessing import Reweighing, DisparateImpactRemover"
   ]
  },
  {
   "cell_type": "code",
   "execution_count": 2,
   "id": "e1d1746f-2f48-409b-8d2f-989affffcd5b",
   "metadata": {
    "tags": []
   },
   "outputs": [],
   "source": [
    "# utility functions\n",
    "def compute_dataset_fairness_metrics(data: BinaryLabelDataset, unpriv_group: list, priv_group: list):\n",
    "    \"\"\" Computes: Disparate Impact and Statistical Parity \"\"\"\n",
    "    \n",
    "    b = BinaryLabelDatasetMetric(data, unprivileged_groups=unpriv_group, privileged_groups=priv_group)\n",
    "    metrics = dict()\n",
    "    metrics['Disparate Impact'] = b.disparate_impact()\n",
    "    metrics['Statistical Parity'] = b.statistical_parity_difference()\n",
    "    for k in metrics:\n",
    "        print(\"%s = %.4f\" % (k, metrics[k]))\n",
    "    return metrics\n",
    "\n",
    "def compute_fairness_metrics(dataset_true, dataset_pred, \n",
    "                    unprivileged_groups, privileged_groups,\n",
    "                    disp = True):\n",
    "    \"\"\" Computes: Balanced Accuracy \n",
    "    Statistical Parity Difference\n",
    "    Disparate Impact\n",
    "    Average odds difference\n",
    "    Equal Opportunity Difference\n",
    "    Theil Index \"\"\"\n",
    "    \n",
    "    classified_metric_pred = ClassificationMetric(dataset_true,\n",
    "                                                 dataset_pred, \n",
    "                                                 unprivileged_groups=unprivileged_groups,\n",
    "                                                 privileged_groups=privileged_groups)\n",
    "    metrics = OrderedDict()\n",
    "    metrics[\"Balanced accuracy\"] = 0.5*(classified_metric_pred.true_positive_rate()+\n",
    "                                             classified_metric_pred.true_negative_rate())\n",
    "    metrics[\"Statistical parity difference\"] = classified_metric_pred.statistical_parity_difference()\n",
    "    metrics[\"Disparate impact\"] = classified_metric_pred.disparate_impact()\n",
    "    metrics[\"Average odds difference\"] = classified_metric_pred.average_odds_difference()\n",
    "    metrics[\"Equal opportunity difference\"] = classified_metric_pred.equal_opportunity_difference()\n",
    "    metrics[\"Theil index\"] = classified_metric_pred.theil_index()\n",
    "    \n",
    "    if disp:\n",
    "        for k in metrics:\n",
    "            print(\"%s = %.4f\" % (k, metrics[k]))\n",
    "    \n",
    "    return metrics\n",
    "\n",
    "def compute_quality_metrics(dataset_true, dataset_pred, unprivileged_group, privileged_group):\n",
    "    clm = ClassificationMetric(dataset_true, dataset_pred, unprivileged_group, privileged_group)\n",
    "    p_metrics = OrderedDict()\n",
    "    u_metrics = OrderedDict()\n",
    "    p_metrics['Precision'] = clm.precision(privileged=True)\n",
    "    p_metrics['Recall'] = clm.recall(privileged=True)\n",
    "    p_metrics['F1 Score'] = (2*p_metrics['Precision']*p_metrics['Recall'])/(p_metrics['Precision']+p_metrics['Recall'])\n",
    "    \n",
    "    u_metrics['Precision'] = clm.precision(privileged=False)\n",
    "    u_metrics['Recall'] = clm.recall(privileged=False)\n",
    "    u_metrics['F1 Score'] = (2*u_metrics['Precision']*u_metrics['Recall'])/(u_metrics['Precision']+u_metrics['Recall'])\n",
    "    return p_metrics, u_metrics\n",
    "\n",
    "def load_dataset():\n",
    "    column_names = ['age', 'workclass', 'fnlwgt', 'education', 'education-num', 'marital-status', \n",
    "                'occupation','relationship', 'race', 'sex', 'capital-gain', 'capital-loss', 'hours-per-week', 'native-country', 'income']\n",
    "    adult_df = pd.read_csv('adult/adult.data', names=column_names)\n",
    "    adult_df.drop(adult_df[(adult_df['race'] != ' Black') & (adult_df['race'] != ' White')].index,inplace=True)\n",
    "    adult_df.loc[adult_df['native-country'] == ' ?', 'native-country'] = 'Not known'\n",
    "    return adult_df\n",
    "\n",
    "def split_data(data: BinaryLabelDataset):\n",
    "    #data = BinaryLabelDataset(df=data, label_names=label_names, protected_attribute_names=protect_attr_names)\n",
    "    data_train, data_tv = data.split([0.7], shuffle=True)\n",
    "    data_test, data_valid = data_tv.split([0.5], shuffle=True)\n",
    "    return data_train, data_test, data_valid\n",
    "\n",
    "def x_y_split(train, test, sensitive_attributes=[]):\n",
    "    x_train = train.features\n",
    "    x_test = test.features\n",
    "    y_train = train.labels.ravel()\n",
    "    y_test = test.labels.ravel()\n",
    "    for s in sensitive_attributes:\n",
    "        x_train = np.delete(train.features, train.feature_names.index(s), axis=1)\n",
    "        x_test = np.delete(test.features, test.feature_names.index(s), axis=1)\n",
    "    return x_train, y_train, x_test, y_test\n",
    "\n",
    "def compute_classification_metrics(estimator: Pipeline, valid_data: BinaryLabelDataset):\n",
    "    \n",
    "    \"\"\"\"Computes the bias classification metrics \n",
    "    in addition to the classification report and a confusion matrix\"\"\"\n",
    "    pred = valid_data.copy()\n",
    "    pred.labels = estimator.predict(pred.features)\n",
    "    plot_classification_report(classification_report(valid_data.labels, pred.labels))\n",
    "    plot_confusion_matrix(valid_data.labels, pred.labels, {'1', '0'}, normalize=True)\n",
    "    class_metrics = compute_fairness_metrics(valid_data, pred, unprivileged_group, privileged_group)\n",
    "    return class_metrics\n",
    "\n",
    "def merge_datasets(datasets: dict):\n",
    "    keys = list(datasets.keys())\n",
    "    first_data = datasets.pop(keys[0])\n",
    "    merged_metrics = pd.DataFrame(first_data, index=[0])\n",
    "    merged_metrics.loc[0,'Dataset'] = keys[0]\n",
    "    index = 1\n",
    "    for k,v in datasets.items():\n",
    "        merged_metrics = merged_metrics.append(v, ignore_index=True)\n",
    "        merged_metrics.loc[index,'Dataset'] = k\n",
    "        index = index + 1\n",
    "    merged_data = merged_metrics.melt(id_vars='Dataset', value_name='values', var_name='metrics')\n",
    "    return merged_data"
   ]
  },
  {
   "cell_type": "code",
   "execution_count": 3,
   "id": "823ac9e8-2d3d-42f3-96b1-72eb12931197",
   "metadata": {
    "tags": []
   },
   "outputs": [],
   "source": [
    "def classify(estimator: Pipeline, data: BinaryLabelDataset, sensitive_attributes = [], show=True):\n",
    "    np_data = np.hstack((data.features, data.labels))\n",
    "    kf = KFold(n_splits=10, shuffle=True)\n",
    "    class_metrics = []\n",
    "    quality_metrics_p = []\n",
    "    quality_metrics_u = []\n",
    "    for train, test in kf.split(np_data):\n",
    "        d_train = data.subset(train)\n",
    "        d_test = data.subset(test)\n",
    "        x_train, y_train, x_test, y_test = x_y_split(d_train, d_test, sensitive_attributes)\n",
    "        if sensitive_attributes:\n",
    "            for s in sensitive_attributes:\n",
    "                d_test.features = np.delete(d_test.features, d_test.feature_names.index(s), axis=1)\n",
    "        pipe = deepcopy(estimator)\n",
    "        pipe.fit(x_train, y_train, logisticregression__sample_weight=d_train.instance_weights.ravel())\n",
    "        pred = d_test.copy()\n",
    "        pred.labels = pipe.predict(x_test)\n",
    "        metric = compute_fairness_metrics(d_test, pred, unprivileged_group, privileged_group, disp=False)\n",
    "        q_metric_p, q_metric_u = compute_quality_metrics(d_test, pred, unprivileged_group, privileged_group)\n",
    "        quality_metrics_p.append(q_metric_p)\n",
    "        quality_metrics_u.append(q_metric_u)\n",
    "        class_metrics.append(metric)\n",
    "    \n",
    "    ris = {key: round(np.mean([metric[key] for metric in class_metrics]),4) for key in class_metrics[0]}\n",
    "    q_metrics_p = {key: round(np.mean([metric[key] for metric in quality_metrics_p]),4) for key in quality_metrics_p[0]}\n",
    "    q_metrics_u = {key: round(np.mean([metric[key] for metric in quality_metrics_u]),4) for key in quality_metrics_u[0]}\n",
    "    q_metrics = pd.DataFrame(data=[q_metrics_p, q_metrics_u], index=['Privileged', 'Unprivileged'])\n",
    "    plot_quality_metrics(q_metrics)\n",
    "    if show:\n",
    "        for key, val in ris.items():\n",
    "            print(\"%s: %.4f\" % (key,val))\n",
    "    return ris"
   ]
  },
  {
   "cell_type": "code",
   "execution_count": 4,
   "id": "44a509d5-4937-439c-9a76-f8a9706e85e5",
   "metadata": {
    "tags": []
   },
   "outputs": [],
   "source": [
    "# plot functions\n",
    "\n",
    "def plot_confusion_matrix(cm,\n",
    "                          normalize=False,\n",
    "                          title=None,\n",
    "                          cmap=plt.cm.Blues):\n",
    "\n",
    "    if not title:\n",
    "        if normalize:\n",
    "            title = 'Normalized confusion matrix'\n",
    "        else:\n",
    "            title = 'Confusion matrix, without normalization'\n",
    "\n",
    "    cm = confusion_matrix(y_true, y_pred)\n",
    "\n",
    "    if normalize:\n",
    "        cm = cm.astype('float') / cm.sum(axis=1)[:, np.newaxis]\n",
    "    classes = {'1', '0'}\n",
    "    \n",
    "    fig, ax = plt.subplots()\n",
    "    im = ax.imshow(cm, interpolation='nearest', cmap=cmap)\n",
    "    ax.figure.colorbar(im, ax=ax)\n",
    "    ax.grid(False)\n",
    "    ax.set(xticks=np.arange(cm.shape[1]),\n",
    "           yticks=np.arange(cm.shape[0]), \n",
    "           xticklabels=classes, yticklabels=classes,\n",
    "           title=title,\n",
    "           ylabel='True label',\n",
    "           xlabel='Predicted label')\n",
    "\n",
    "    plt.setp(ax.get_xticklabels(), rotation=45, ha=\"right\",\n",
    "             rotation_mode=\"anchor\")\n",
    "    fmt = '.2f' if normalize else 'd'\n",
    "    thresh = cm.max() / 2.\n",
    "    for i in range(cm.shape[0]):\n",
    "        for j in range(cm.shape[1]):\n",
    "            ax.text(j, i, format(cm[i, j], fmt),\n",
    "                    ha=\"center\", va=\"center\",\n",
    "                    color=\"white\" if cm[i, j] > thresh else \"black\")\n",
    "    fig.tight_layout()\n",
    "    return ax\n",
    "\n",
    "def plot_quality_metrics(q_metrics):\n",
    "    ax = sns.heatmap(q_metrics, annot=True, cmap=plt.cm.RdBu)\n",
    "    plt.ylabel('Classes')\n",
    "    plt.xlabel('Metrics')\n",
    "    plt.yticks(rotation=0)\n",
    "    plt.title('Classification Report')\n",
    "    plt.tight_layout()\n",
    "    return ax\n",
    "\n",
    "def plot_classification_report(classificationReport,\n",
    "                               title='Classification report',\n",
    "                               cmap='RdBu'):\n",
    "\n",
    "    classificationReport = classificationReport.replace('\\n\\n', '\\n')\n",
    "    classificationReport = classificationReport.replace(' / ', '/')\n",
    "    lines = classificationReport.split('\\n')\n",
    "\n",
    "    classes, plotMat, support, class_names = [], [], [], []\n",
    "    for line in lines[1:-4]:  # if you don't want avg/total result, then change [1:] into [1:-1]\n",
    "        t = line.strip().split()\n",
    "        if len(t) < 2:\n",
    "            continue\n",
    "        classes.append(t[0])\n",
    "        v = [float(x) for x in t[1: len(t) - 1]]\n",
    "        support.append(int(t[-1]))\n",
    "        class_names.append(t[0])\n",
    "        plotMat.append(v)\n",
    "\n",
    "    plotMat = np.array(plotMat)\n",
    "    xticklabels = ['Precision', 'Recall', 'F1-score']\n",
    "    yticklabels = ['{0} ({1})'.format(class_names[idx], sup)\n",
    "                   for idx, sup in enumerate(support)]\n",
    "\n",
    "    plt.imshow(plotMat, interpolation='nearest', cmap=cmap, aspect='auto')\n",
    "    plt.title(title)\n",
    "    plt.colorbar()\n",
    "    plt.grid(False)\n",
    "    plt.xticks(np.arange(3), xticklabels, rotation=45)\n",
    "    plt.yticks(np.arange(len(classes)), yticklabels)\n",
    "\n",
    "    upper_thresh = plotMat.min() + (plotMat.max() - plotMat.min()) / 10 * 8\n",
    "    lower_thresh = plotMat.min() + (plotMat.max() - plotMat.min()) / 10 * 2\n",
    "    for i, j in itertools.product(range(plotMat.shape[0]), range(plotMat.shape[1])):\n",
    "        plt.text(j, i, format(plotMat[i, j], '.2f'),\n",
    "                 horizontalalignment=\"center\",\n",
    "                 color=\"white\" if (plotMat[i, j] > upper_thresh or plotMat[i, j] < lower_thresh) else \"black\")\n",
    "\n",
    "    plt.ylabel('Metrics')\n",
    "    plt.xlabel('Classes')\n",
    "    plt.tight_layout()\n",
    "\n",
    "def plot_metrics_comparison(bias_class_metrics, rw_class_metrics, title1='', title2=''):\n",
    "    fig,ax = plt.subplots(1,2,figsize=(15,5))\n",
    "    keys = list(bias_class_metrics.keys())\n",
    "    vals = [float(bias_class_metrics[k]) for k in keys]\n",
    "    sns.barplot(x=keys, y=vals,ax=ax[0])\n",
    "    for k in keys:\n",
    "        ax[0].text(keys.index(k), \n",
    "                   bias_class_metrics[k], \n",
    "                   round(bias_class_metrics[k], 3), \n",
    "                   ha=\"center\",\n",
    "                   va=\"bottom\",\n",
    "                   fontsize=\"medium\"\n",
    "                  )\n",
    "    keys = list(rw_class_metrics.keys())\n",
    "    vals = [float(rw_class_metrics[k]) for k in keys]\n",
    "    sns.barplot(x=keys, y=vals,ax=ax[1])\n",
    "    for k in keys:\n",
    "        ax[1].text(keys.index(k), \n",
    "                   rw_class_metrics[k], \n",
    "                   round(rw_class_metrics[k], 3), \n",
    "                   ha=\"center\",\n",
    "                   va=\"bottom\",\n",
    "                   fontsize=\"medium\"\n",
    "                  )\n",
    "    ax[0].tick_params(labelrotation=90)\n",
    "    ax[0].set(title=title1)\n",
    "    ax[1].tick_params(labelrotation=90)\n",
    "    ax[1].set(title=title2)\n",
    "    return ax\n",
    "\n",
    "def plot_syntesis(dataset, title):\n",
    "    fig, ax = plt.subplots(1,1,figsize=(15,5))\n",
    "    unbias_fig = sns.barplot(data = dataset, x='metrics', y='values', hue='Dataset', ax=ax)\n",
    "    plt.ylabel(ylabel='')\n",
    "    plt.xlabel(xlabel='')\n",
    "    plt.title(title)\n",
    "    return ax"
   ]
  },
  {
   "cell_type": "markdown",
   "id": "f0ad25be-2028-4575-9813-2be067466254",
   "metadata": {},
   "source": [
    "## Dataset description"
   ]
  },
  {
   "cell_type": "markdown",
   "id": "dbdfa6ef-3168-4f77-983f-9298ff33fe51",
   "metadata": {},
   "source": [
    "The data is related with direct marketing campaigns (phone calls) of a Portuguese banking institution. The classification goal is to predict if the client will subscribe a term deposit (variable y). This dataset have been proven to be bias w.r.t. the `age` variable with a value <=25."
   ]
  },
  {
   "cell_type": "markdown",
   "id": "f6d5759e-8083-4e9b-a64f-0ca790872af2",
   "metadata": {},
   "source": [
    "## Dataset fairness metrics definition"
   ]
  },
  {
   "cell_type": "markdown",
   "id": "80890589-0b91-4237-876b-af12cfe7db15",
   "metadata": {},
   "source": [
    "The group fairness metrics related to the dataset are defined as follows:\n",
    "\n",
    "- **Disparate impact**\n",
    "\n",
    "$$\n",
    "\\frac{Pr(Y=1|S=unprivileged)}{Pr(Y=1|S=privileged)}\n",
    "$$\n",
    "\n",
    "> If the value is less than 0.8 or more than 1.2 we say that there is a _disparate impact_ on data\n",
    "\n",
    "- **Statistical parity**\n",
    "\n",
    "$$\n",
    "Pr(Y=1|S=unprivileged)-Pr(Y=1|S=privileged)\n",
    "$$"
   ]
  },
  {
   "cell_type": "markdown",
   "id": "b7291991-91ed-4d25-920c-a96216964348",
   "metadata": {},
   "source": [
    "## Classifier fairness metrics definition"
   ]
  },
  {
   "cell_type": "markdown",
   "id": "80945497-95d6-410c-aaf4-e27b3d667e19",
   "metadata": {},
   "source": [
    "The group fairness metrics related to the classifier are defined below:\n",
    "\n",
    "- **Balanced Accuracy**\n",
    "\n",
    "$$\n",
    "\\frac{TP + TN}{2}\n",
    "$$\n",
    "\n",
    "- **Statistical parity**\n",
    "\n",
    "$$\n",
    "Pr(\\hat{Y}=1|S=unprivileged)-Pr(\\hat{Y}=1|S=privileged)\n",
    "$$\n",
    "\n",
    "- **Disparate Impact**\n",
    "\n",
    "$$\n",
    "\\frac{Pr(\\hat{Y}=1|S=unprivileged)}{Pr(\\hat{Y}=1|S=privileged)}\n",
    "$$\n",
    "\n",
    ">If the value is less than 0.8 or more than 1.2 we say that there is a _disparate impact_ on data\n",
    "- **Average odds difference**\n",
    "\n",
    "$$\n",
    "\\frac{[(FPR_{S=unpriv} - FPR_{S=priv})+(TPR_{S=unpriv} - TPR_{S=priv})]}{2}\n",
    "$$\n",
    ">A value of 0 means _equality of odds_\n",
    "\n",
    "- **Equal opportunity difference**\n",
    "\n",
    "$$\n",
    "TPR_{S=unpriv} - TPR_{S=priv}\n",
    "$$\n",
    "\n",
    "- **Theil Index**\n",
    "\n",
    "$$\n",
    "\\frac{1}{n}\\sum_{i=1}^n\\frac{b_{i}}{\\mu}\\ln(\\frac{b_{i}}{\\mu}) \\\\\n",
    "\\text{with: } b_i=\\hat{y_i}-y_i+1 \\text{ and $\\mu$ is the mean of $b_i$ }\n",
    "$$\n",
    ">Individual index measuring the distance of each individual predicted y from his real value. A value of 0 means equality. "
   ]
  },
  {
   "cell_type": "markdown",
   "id": "f468fbad-8dbc-48d5-a6eb-0517b1c9ab93",
   "metadata": {},
   "source": [
    "## Bias mitigation algorithms"
   ]
  },
  {
   "cell_type": "markdown",
   "id": "95671ba2-ca94-4d71-ac68-f48f178ddada",
   "metadata": {},
   "source": [
    "In the following we will test two preprocessing bias mitigation algorithms and we will compare the impact they have on the model accuracy. The algorithms that we will test are the following:\n",
    "\n",
    "1. **Reweighing**\n",
    "    \n",
    "> Reweighing is a preprocessing technique that Weights the examples in each (group, label) combination differently to ensure fairness before classification\n",
    "\n",
    "2. **Disparate Impact Remover**\n",
    "\n",
    "> This algorithm changes the values of the unsensitive variables at different levels of repair. An higher level of repair removes the disparate impact but loweres the accuracy, while a low level of repair does not change the data. The values of the unsensitive attributes are changed s.t. the correlation between the variables and the sensitive attribute _S_ is removed while keeping the ranking of the items for the classifier. In this way it is no more possible to predict the sensitive variable _S_ from the unsensitive attributes.\n",
    ">\n",
    "> Following the pre processing procedure suggested by M. Feldman et al. in _\"Certifying and removing disparate impact.\" ACM SIGKDD International Conference on Knowledge Discovery and Data Mining, 2015_, we first scale the values s.t. the minimum is 0 and the maximum is 1 and then remove the sensitive variable from the dataset before training the classifier.\n",
    ">\n",
    ">**NB:** Categorical data must be transformed in ordered values\n",
    "\n",
    "<!--3. **LFR**\n",
    "\n",
    "> Learning fair representations is a pre-processing technique that finds a latent representation which encodes the data well but obfuscates information about protected attributes-->"
   ]
  },
  {
   "cell_type": "markdown",
   "id": "0637c3f4-3932-4769-ad44-9b62625a407b",
   "metadata": {},
   "source": [
    "# Importing and exploring the dataset"
   ]
  },
  {
   "cell_type": "code",
   "execution_count": 5,
   "id": "336ca8ef-bab1-4a93-b500-e48b4a687b4f",
   "metadata": {},
   "outputs": [
    {
     "name": "stderr",
     "output_type": "stream",
     "text": [
      "WARNING:root:Missing Data: 10700 rows removed from BankDataset.\n"
     ]
    }
   ],
   "source": [
    "bank = BankDataset()"
   ]
  },
  {
   "cell_type": "code",
   "execution_count": 6,
   "id": "bd622a59-33e3-40fc-b379-b453349c608d",
   "metadata": {},
   "outputs": [
    {
     "data": {
      "text/plain": [
       "(30488, 57)"
      ]
     },
     "execution_count": 6,
     "metadata": {},
     "output_type": "execute_result"
    }
   ],
   "source": [
    "bank.features.shape"
   ]
  },
  {
   "cell_type": "code",
   "execution_count": 7,
   "id": "530d4b0e-1a89-4571-9aa0-15b60add04b1",
   "metadata": {},
   "outputs": [
    {
     "data": {
      "text/plain": [
       "['age']"
      ]
     },
     "execution_count": 7,
     "metadata": {},
     "output_type": "execute_result"
    }
   ],
   "source": [
    "bank.protected_attribute_names"
   ]
  },
  {
   "cell_type": "code",
   "execution_count": 8,
   "id": "dc470fac-1bcf-4799-aef4-a0cd2827f4aa",
   "metadata": {},
   "outputs": [
    {
     "data": {
      "text/plain": [
       "[array([0.])]"
      ]
     },
     "execution_count": 8,
     "metadata": {},
     "output_type": "execute_result"
    }
   ],
   "source": [
    "bank.unprivileged_protected_attributes"
   ]
  },
  {
   "cell_type": "code",
   "execution_count": 22,
   "id": "08593daf-ba60-42f3-a06f-5a907dc3a1ab",
   "metadata": {},
   "outputs": [
    {
     "data": {
      "text/plain": [
       "{'transformer': 'BankDataset.__init__',\n",
       " 'params': {'df':        age  duration  campaign  pdays  previous  emp.var.rate  cons.price.idx  \\\n",
       "  0      1.0     261.0       1.0  999.0       0.0           1.1          93.994   \n",
       "  2      1.0     226.0       1.0  999.0       0.0           1.1          93.994   \n",
       "  3      1.0     151.0       1.0  999.0       0.0           1.1          93.994   \n",
       "  4      1.0     307.0       1.0  999.0       0.0           1.1          93.994   \n",
       "  6      1.0     139.0       1.0  999.0       0.0           1.1          93.994   \n",
       "  ...    ...       ...       ...    ...       ...           ...             ...   \n",
       "  41183  1.0     334.0       1.0  999.0       0.0          -1.1          94.767   \n",
       "  41184  1.0     383.0       1.0  999.0       0.0          -1.1          94.767   \n",
       "  41185  1.0     189.0       2.0  999.0       0.0          -1.1          94.767   \n",
       "  41186  1.0     442.0       1.0  999.0       0.0          -1.1          94.767   \n",
       "  41187  1.0     239.0       3.0  999.0       1.0          -1.1          94.767   \n",
       "  \n",
       "         cons.conf.idx  euribor3m  nr.employed  ...  month=oct  month=sep  \\\n",
       "  0              -36.4      4.857       5191.0  ...        0.0        0.0   \n",
       "  2              -36.4      4.857       5191.0  ...        0.0        0.0   \n",
       "  3              -36.4      4.857       5191.0  ...        0.0        0.0   \n",
       "  4              -36.4      4.857       5191.0  ...        0.0        0.0   \n",
       "  6              -36.4      4.857       5191.0  ...        0.0        0.0   \n",
       "  ...              ...        ...          ...  ...        ...        ...   \n",
       "  41183          -50.8      1.028       4963.6  ...        0.0        0.0   \n",
       "  41184          -50.8      1.028       4963.6  ...        0.0        0.0   \n",
       "  41185          -50.8      1.028       4963.6  ...        0.0        0.0   \n",
       "  41186          -50.8      1.028       4963.6  ...        0.0        0.0   \n",
       "  41187          -50.8      1.028       4963.6  ...        0.0        0.0   \n",
       "  \n",
       "         day_of_week=fri  day_of_week=mon  day_of_week=thu  day_of_week=tue  \\\n",
       "  0                  0.0              1.0              0.0              0.0   \n",
       "  2                  0.0              1.0              0.0              0.0   \n",
       "  3                  0.0              1.0              0.0              0.0   \n",
       "  4                  0.0              1.0              0.0              0.0   \n",
       "  6                  0.0              1.0              0.0              0.0   \n",
       "  ...                ...              ...              ...              ...   \n",
       "  41183              1.0              0.0              0.0              0.0   \n",
       "  41184              1.0              0.0              0.0              0.0   \n",
       "  41185              1.0              0.0              0.0              0.0   \n",
       "  41186              1.0              0.0              0.0              0.0   \n",
       "  41187              1.0              0.0              0.0              0.0   \n",
       "  \n",
       "         day_of_week=wed  poutcome=failure  poutcome=nonexistent  \\\n",
       "  0                  0.0               0.0                   1.0   \n",
       "  2                  0.0               0.0                   1.0   \n",
       "  3                  0.0               0.0                   1.0   \n",
       "  4                  0.0               0.0                   1.0   \n",
       "  6                  0.0               0.0                   1.0   \n",
       "  ...                ...               ...                   ...   \n",
       "  41183              0.0               0.0                   1.0   \n",
       "  41184              0.0               0.0                   1.0   \n",
       "  41185              0.0               0.0                   1.0   \n",
       "  41186              0.0               0.0                   1.0   \n",
       "  41187              0.0               1.0                   0.0   \n",
       "  \n",
       "         poutcome=success  \n",
       "  0                   0.0  \n",
       "  2                   0.0  \n",
       "  3                   0.0  \n",
       "  4                   0.0  \n",
       "  6                   0.0  \n",
       "  ...                 ...  \n",
       "  41183               0.0  \n",
       "  41184               0.0  \n",
       "  41185               0.0  \n",
       "  41186               0.0  \n",
       "  41187               0.0  \n",
       "  \n",
       "  [30488 rows x 58 columns],\n",
       "  'label_names': ['y'],\n",
       "  'protected_attribute_names': ['age'],\n",
       "  'instance_weights_name': None,\n",
       "  'unprivileged_protected_attributes': [array([0.])],\n",
       "  'privileged_protected_attributes': [array([1.])]},\n",
       " 'previous': []}"
      ]
     },
     "execution_count": 22,
     "metadata": {},
     "output_type": "execute_result"
    }
   ],
   "source": [
    "bank.metadata"
   ]
  },
  {
   "cell_type": "code",
   "execution_count": 21,
   "id": "83748966-64eb-4cea-a1ef-efd541795eb6",
   "metadata": {},
   "outputs": [
    {
     "data": {
      "image/png": "[encoded data removed]",
      "text/plain": [
       "<Figure size 1224x360 with 3 Axes>"
      ]
     },
     "metadata": {},
     "output_type": "display_data"
    }
   ],
   "source": [
    "df = bank.convert_to_dataframe()[0]\n",
    "fig, [ax1, ax2, ax3] = plt.subplots(1,3, figsize=(17,5))\n",
    "sns.countplot(x='y', data=df, ax=ax1)\n",
    "sns.countplot(x='age', data=df, ax=ax2)\n",
    "sns.barplot(x='y',y='percentage',\n",
    "            data=(df[['age','y']]\n",
    "                 .groupby('age')['y']\n",
    "                 .value_counts(normalize=True)\n",
    "                 .rename('percentage')\n",
    "                 .reset_index()),\n",
    "            hue='age', ax=ax3\n",
    "           )\n",
    "ax1.set_title('Label distribution')\n",
    "ax1.set_ylabel('')\n",
    "ax2.set_ylabel('')\n",
    "ax2.set_title('Sensitive variable distribution')\n",
    "ax3.set_title('Label distribution per sensitive variable')\n",
    "plt.show()"
   ]
  },
  {
   "cell_type": "code",
   "execution_count": 17,
   "id": "8269a200-d073-499c-8b56-edf04f6331c0",
   "metadata": {},
   "outputs": [],
   "source": [
    "priv_group=[{'age':1}]\n",
    "unpriv_group=[{'age':0}]"
   ]
  },
  {
   "cell_type": "code",
   "execution_count": 18,
   "id": "a03c8f17-e761-4000-bcc4-471a3ae3d462",
   "metadata": {},
   "outputs": [
    {
     "name": "stdout",
     "output_type": "stream",
     "text": [
      "Disparate Impact = 0.5364\n",
      "Statistical Parity = -0.1068\n"
     ]
    },
    {
     "data": {
      "text/plain": [
       "{'Disparate Impact': 0.5364114659172178,\n",
       " 'Statistical Parity': -0.10677559986397415}"
      ]
     },
     "execution_count": 18,
     "metadata": {},
     "output_type": "execute_result"
    }
   ],
   "source": [
    "compute_dataset_fairness_metrics(bank, priv_group, unpriv_group)"
   ]
  },
  {
   "cell_type": "code",
   "execution_count": null,
   "id": "8b22fccd-8c20-491e-98e3-082d077044fb",
   "metadata": {},
   "outputs": [],
   "source": []
  },
  {
   "cell_type": "code",
   "execution_count": null,
   "id": "4b340be6-da8b-42e0-a66d-446e82b7b131",
   "metadata": {},
   "outputs": [],
   "source": []
  }
 ],
 "metadata": {
  "kernelspec": {
   "display_name": "Python 3",
   "language": "python",
   "name": "python3"
  },
  "language_info": {
   "codemirror_mode": {
    "name": "ipython",
    "version": 3
   },
   "file_extension": ".py",
   "mimetype": "text/x-python",
   "name": "python",
   "nbconvert_exporter": "python",
   "pygments_lexer": "ipython3",
   "version": "3.8.8"
  }
 },
 "nbformat": 4,
 "nbformat_minor": 5
}
