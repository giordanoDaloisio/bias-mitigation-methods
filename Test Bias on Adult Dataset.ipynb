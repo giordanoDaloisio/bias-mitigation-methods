{
 "cells": [
  {
   "cell_type": "markdown",
   "id": "cad3960e",
   "metadata": {},
   "source": [
    "# Testing bias metrics and mitigation on the Adult Income dataset"
   ]
  },
  {
   "cell_type": "code",
   "execution_count": 1,
   "id": "30a429c1",
   "metadata": {},
   "outputs": [],
   "source": [
    "import numpy as np\n",
    "import pandas as pd\n",
    "import matplotlib.pyplot as plt\n",
    "import seaborn as sns\n",
    "sns.set_theme(style='darkgrid')\n",
    "\n",
    "from IPython.display import Markdown, display"
   ]
  },
  {
   "cell_type": "markdown",
   "id": "bcd86d7a-b1ef-408a-bcda-bcd4a7c35c51",
   "metadata": {},
   "source": [
    "## Importing and exploring the dataset"
   ]
  },
  {
   "cell_type": "code",
   "execution_count": 2,
   "id": "2a18d465",
   "metadata": {},
   "outputs": [
    {
     "data": {
      "text/html": [
       "<div>\n",
       "<style scoped>\n",
       "    .dataframe tbody tr th:only-of-type {\n",
       "        vertical-align: middle;\n",
       "    }\n",
       "\n",
       "    .dataframe tbody tr th {\n",
       "        vertical-align: top;\n",
       "    }\n",
       "\n",
       "    .dataframe thead th {\n",
       "        text-align: right;\n",
       "    }\n",
       "</style>\n",
       "<table border=\"1\" class=\"dataframe\">\n",
       "  <thead>\n",
       "    <tr style=\"text-align: right;\">\n",
       "      <th></th>\n",
       "      <th>age</th>\n",
       "      <th>workclass</th>\n",
       "      <th>fnlwgt</th>\n",
       "      <th>education</th>\n",
       "      <th>education-num</th>\n",
       "      <th>marital-status</th>\n",
       "      <th>occupation</th>\n",
       "      <th>relationship</th>\n",
       "      <th>race</th>\n",
       "      <th>sex</th>\n",
       "      <th>capital-gain</th>\n",
       "      <th>capital-loss</th>\n",
       "      <th>hours-per-week</th>\n",
       "      <th>native-country</th>\n",
       "      <th>income</th>\n",
       "    </tr>\n",
       "  </thead>\n",
       "  <tbody>\n",
       "    <tr>\n",
       "      <th>0</th>\n",
       "      <td>39</td>\n",
       "      <td>State-gov</td>\n",
       "      <td>77516</td>\n",
       "      <td>Bachelors</td>\n",
       "      <td>13</td>\n",
       "      <td>Never-married</td>\n",
       "      <td>Adm-clerical</td>\n",
       "      <td>Not-in-family</td>\n",
       "      <td>White</td>\n",
       "      <td>Male</td>\n",
       "      <td>2174</td>\n",
       "      <td>0</td>\n",
       "      <td>40</td>\n",
       "      <td>United-States</td>\n",
       "      <td>&lt;=50K</td>\n",
       "    </tr>\n",
       "    <tr>\n",
       "      <th>1</th>\n",
       "      <td>50</td>\n",
       "      <td>Self-emp-not-inc</td>\n",
       "      <td>83311</td>\n",
       "      <td>Bachelors</td>\n",
       "      <td>13</td>\n",
       "      <td>Married-civ-spouse</td>\n",
       "      <td>Exec-managerial</td>\n",
       "      <td>Husband</td>\n",
       "      <td>White</td>\n",
       "      <td>Male</td>\n",
       "      <td>0</td>\n",
       "      <td>0</td>\n",
       "      <td>13</td>\n",
       "      <td>United-States</td>\n",
       "      <td>&lt;=50K</td>\n",
       "    </tr>\n",
       "    <tr>\n",
       "      <th>2</th>\n",
       "      <td>38</td>\n",
       "      <td>Private</td>\n",
       "      <td>215646</td>\n",
       "      <td>HS-grad</td>\n",
       "      <td>9</td>\n",
       "      <td>Divorced</td>\n",
       "      <td>Handlers-cleaners</td>\n",
       "      <td>Not-in-family</td>\n",
       "      <td>White</td>\n",
       "      <td>Male</td>\n",
       "      <td>0</td>\n",
       "      <td>0</td>\n",
       "      <td>40</td>\n",
       "      <td>United-States</td>\n",
       "      <td>&lt;=50K</td>\n",
       "    </tr>\n",
       "    <tr>\n",
       "      <th>3</th>\n",
       "      <td>53</td>\n",
       "      <td>Private</td>\n",
       "      <td>234721</td>\n",
       "      <td>11th</td>\n",
       "      <td>7</td>\n",
       "      <td>Married-civ-spouse</td>\n",
       "      <td>Handlers-cleaners</td>\n",
       "      <td>Husband</td>\n",
       "      <td>Black</td>\n",
       "      <td>Male</td>\n",
       "      <td>0</td>\n",
       "      <td>0</td>\n",
       "      <td>40</td>\n",
       "      <td>United-States</td>\n",
       "      <td>&lt;=50K</td>\n",
       "    </tr>\n",
       "    <tr>\n",
       "      <th>4</th>\n",
       "      <td>28</td>\n",
       "      <td>Private</td>\n",
       "      <td>338409</td>\n",
       "      <td>Bachelors</td>\n",
       "      <td>13</td>\n",
       "      <td>Married-civ-spouse</td>\n",
       "      <td>Prof-specialty</td>\n",
       "      <td>Wife</td>\n",
       "      <td>Black</td>\n",
       "      <td>Female</td>\n",
       "      <td>0</td>\n",
       "      <td>0</td>\n",
       "      <td>40</td>\n",
       "      <td>Cuba</td>\n",
       "      <td>&lt;=50K</td>\n",
       "    </tr>\n",
       "  </tbody>\n",
       "</table>\n",
       "</div>"
      ],
      "text/plain": [
       "   age          workclass  fnlwgt   education  education-num  \\\n",
       "0   39          State-gov   77516   Bachelors             13   \n",
       "1   50   Self-emp-not-inc   83311   Bachelors             13   \n",
       "2   38            Private  215646     HS-grad              9   \n",
       "3   53            Private  234721        11th              7   \n",
       "4   28            Private  338409   Bachelors             13   \n",
       "\n",
       "        marital-status          occupation    relationship    race      sex  \\\n",
       "0        Never-married        Adm-clerical   Not-in-family   White     Male   \n",
       "1   Married-civ-spouse     Exec-managerial         Husband   White     Male   \n",
       "2             Divorced   Handlers-cleaners   Not-in-family   White     Male   \n",
       "3   Married-civ-spouse   Handlers-cleaners         Husband   Black     Male   \n",
       "4   Married-civ-spouse      Prof-specialty            Wife   Black   Female   \n",
       "\n",
       "   capital-gain  capital-loss  hours-per-week  native-country  income  \n",
       "0          2174             0              40   United-States   <=50K  \n",
       "1             0             0              13   United-States   <=50K  \n",
       "2             0             0              40   United-States   <=50K  \n",
       "3             0             0              40   United-States   <=50K  \n",
       "4             0             0              40            Cuba   <=50K  "
      ]
     },
     "execution_count": 2,
     "metadata": {},
     "output_type": "execute_result"
    }
   ],
   "source": [
    "column_names = ['age', 'workclass', 'fnlwgt', 'education', 'education-num', 'marital-status', \n",
    "                'occupation','relationship', 'race', 'sex', 'capital-gain', 'capital-loss', 'hours-per-week', 'native-country', 'income']\n",
    "adult_df = pd.read_csv('adult/adult.data', names=column_names)\n",
    "adult_df.drop(adult_df[(adult_df['race'] != ' Black') & (adult_df['race'] != ' White')].index,inplace=True)\n",
    "adult_df.head()"
   ]
  },
  {
   "cell_type": "code",
   "execution_count": 3,
   "id": "f1ca2de7-2534-4a89-a35f-3d73110c88fb",
   "metadata": {},
   "outputs": [
    {
     "data": {
      "text/html": [
       "<div>\n",
       "<style scoped>\n",
       "    .dataframe tbody tr th:only-of-type {\n",
       "        vertical-align: middle;\n",
       "    }\n",
       "\n",
       "    .dataframe tbody tr th {\n",
       "        vertical-align: top;\n",
       "    }\n",
       "\n",
       "    .dataframe thead th {\n",
       "        text-align: right;\n",
       "    }\n",
       "</style>\n",
       "<table border=\"1\" class=\"dataframe\">\n",
       "  <thead>\n",
       "    <tr style=\"text-align: right;\">\n",
       "      <th></th>\n",
       "      <th>age</th>\n",
       "      <th>fnlwgt</th>\n",
       "      <th>education-num</th>\n",
       "      <th>capital-gain</th>\n",
       "      <th>capital-loss</th>\n",
       "      <th>hours-per-week</th>\n",
       "    </tr>\n",
       "  </thead>\n",
       "  <tbody>\n",
       "    <tr>\n",
       "      <th>count</th>\n",
       "      <td>30940.000000</td>\n",
       "      <td>3.094000e+04</td>\n",
       "      <td>30940.000000</td>\n",
       "      <td>30940.000000</td>\n",
       "      <td>30940.000000</td>\n",
       "      <td>30940.000000</td>\n",
       "    </tr>\n",
       "    <tr>\n",
       "      <th>mean</th>\n",
       "      <td>38.668714</td>\n",
       "      <td>1.914090e+05</td>\n",
       "      <td>10.069716</td>\n",
       "      <td>1069.992211</td>\n",
       "      <td>87.734551</td>\n",
       "      <td>40.460278</td>\n",
       "    </tr>\n",
       "    <tr>\n",
       "      <th>std</th>\n",
       "      <td>13.685619</td>\n",
       "      <td>1.060825e+05</td>\n",
       "      <td>2.551595</td>\n",
       "      <td>7302.167330</td>\n",
       "      <td>404.123725</td>\n",
       "      <td>12.356746</td>\n",
       "    </tr>\n",
       "    <tr>\n",
       "      <th>min</th>\n",
       "      <td>17.000000</td>\n",
       "      <td>1.882700e+04</td>\n",
       "      <td>1.000000</td>\n",
       "      <td>0.000000</td>\n",
       "      <td>0.000000</td>\n",
       "      <td>1.000000</td>\n",
       "    </tr>\n",
       "    <tr>\n",
       "      <th>25%</th>\n",
       "      <td>28.000000</td>\n",
       "      <td>1.191700e+05</td>\n",
       "      <td>9.000000</td>\n",
       "      <td>0.000000</td>\n",
       "      <td>0.000000</td>\n",
       "      <td>40.000000</td>\n",
       "    </tr>\n",
       "    <tr>\n",
       "      <th>50%</th>\n",
       "      <td>37.000000</td>\n",
       "      <td>1.802815e+05</td>\n",
       "      <td>10.000000</td>\n",
       "      <td>0.000000</td>\n",
       "      <td>0.000000</td>\n",
       "      <td>40.000000</td>\n",
       "    </tr>\n",
       "    <tr>\n",
       "      <th>75%</th>\n",
       "      <td>48.000000</td>\n",
       "      <td>2.384045e+05</td>\n",
       "      <td>12.000000</td>\n",
       "      <td>0.000000</td>\n",
       "      <td>0.000000</td>\n",
       "      <td>45.000000</td>\n",
       "    </tr>\n",
       "    <tr>\n",
       "      <th>max</th>\n",
       "      <td>90.000000</td>\n",
       "      <td>1.484705e+06</td>\n",
       "      <td>16.000000</td>\n",
       "      <td>99999.000000</td>\n",
       "      <td>4356.000000</td>\n",
       "      <td>99.000000</td>\n",
       "    </tr>\n",
       "  </tbody>\n",
       "</table>\n",
       "</div>"
      ],
      "text/plain": [
       "                age        fnlwgt  education-num  capital-gain  capital-loss  \\\n",
       "count  30940.000000  3.094000e+04   30940.000000  30940.000000  30940.000000   \n",
       "mean      38.668714  1.914090e+05      10.069716   1069.992211     87.734551   \n",
       "std       13.685619  1.060825e+05       2.551595   7302.167330    404.123725   \n",
       "min       17.000000  1.882700e+04       1.000000      0.000000      0.000000   \n",
       "25%       28.000000  1.191700e+05       9.000000      0.000000      0.000000   \n",
       "50%       37.000000  1.802815e+05      10.000000      0.000000      0.000000   \n",
       "75%       48.000000  2.384045e+05      12.000000      0.000000      0.000000   \n",
       "max       90.000000  1.484705e+06      16.000000  99999.000000   4356.000000   \n",
       "\n",
       "       hours-per-week  \n",
       "count    30940.000000  \n",
       "mean        40.460278  \n",
       "std         12.356746  \n",
       "min          1.000000  \n",
       "25%         40.000000  \n",
       "50%         40.000000  \n",
       "75%         45.000000  \n",
       "max         99.000000  "
      ]
     },
     "execution_count": 3,
     "metadata": {},
     "output_type": "execute_result"
    }
   ],
   "source": [
    "adult_df.describe()"
   ]
  },
  {
   "cell_type": "code",
   "execution_count": 4,
   "id": "bf9c9a9b-34ea-4b88-94f2-bf16feb0955c",
   "metadata": {},
   "outputs": [
    {
     "data": {
      "text/plain": [
       "age               False\n",
       "workclass         False\n",
       "fnlwgt            False\n",
       "education         False\n",
       "education-num     False\n",
       "marital-status    False\n",
       "occupation        False\n",
       "relationship      False\n",
       "race              False\n",
       "sex               False\n",
       "capital-gain      False\n",
       "capital-loss      False\n",
       "hours-per-week    False\n",
       "native-country    False\n",
       "income            False\n",
       "dtype: bool"
      ]
     },
     "execution_count": 4,
     "metadata": {},
     "output_type": "execute_result"
    }
   ],
   "source": [
    "adult_df.isnull().any()"
   ]
  },
  {
   "cell_type": "code",
   "execution_count": 5,
   "id": "09d132a7-7fb2-42c4-bd4c-c665c2467b1e",
   "metadata": {},
   "outputs": [
    {
     "data": {
      "image/png": "[encoded data removed]",
      "text/plain": [
       "<Figure size 1080x360 with 2 Axes>"
      ]
     },
     "metadata": {},
     "output_type": "display_data"
    }
   ],
   "source": [
    "fig,ax = plt.subplots(1,2,figsize=(15,5))\n",
    "sns.barplot(x='income', y='percentage', \n",
    "            data=adult_df[['sex','income']].groupby('sex')['income'].value_counts(normalize=True).rename('percentage').mul(100).reset_index(),\n",
    "            hue='sex',\n",
    "            ax=ax[0])\n",
    "sns.barplot(x='income', y='percentage', \n",
    "            data=adult_df[['race','income']].groupby('race')['income'].value_counts(normalize=True).rename('percentage').mul(100).reset_index(),\n",
    "            hue='race',\n",
    "            ax=ax[1])\n",
    "ax[0].set(xlabel='Income', ylabel='Percentage', title=\"Income by sex\")\n",
    "ax[1].set(xlabel='Income', ylabel='Percentage', title=\"Income by race\")\n",
    "plt.show()"
   ]
  },
  {
   "cell_type": "markdown",
   "id": "37a60342-7e3f-464b-8fe5-0278cae3575a",
   "metadata": {},
   "source": [
    "## Apply bias metrics and methods to the dataset"
   ]
  },
  {
   "cell_type": "code",
   "execution_count": 6,
   "id": "31b3edbb-6dd2-4f79-a337-18b4822e5f9a",
   "metadata": {},
   "outputs": [],
   "source": [
    "from sklearn.preprocessing import LabelEncoder, OrdinalEncoder\n",
    "from aif360.datasets import BinaryLabelDataset\n",
    "from aif360.metrics import BinaryLabelDatasetMetric, ClassificationMetric\n",
    "from aif360.algorithms.preprocessing import Reweighing"
   ]
  },
  {
   "cell_type": "code",
   "execution_count": 7,
   "id": "c1ee4b6f-811a-48b0-b377-ee20308b9670",
   "metadata": {},
   "outputs": [],
   "source": [
    "lab_enc = LabelEncoder()\n",
    "ord_enc = OrdinalEncoder()"
   ]
  },
  {
   "cell_type": "markdown",
   "id": "ba98e8f2-7016-4ee0-8843-ad01284fd9fe",
   "metadata": {},
   "source": [
    "Apply data preprocessing to transform categorical attributes to numerical attributes"
   ]
  },
  {
   "cell_type": "code",
   "execution_count": 8,
   "id": "8e436283-8008-43b9-bc8e-3c6f8e17c5ba",
   "metadata": {},
   "outputs": [],
   "source": [
    "adult_df.loc[adult_df['native-country'] == ' ?', 'native-country'] = 'Not known'\n",
    "adult_df['age_class'] = pd.cut(adult_df['age'],\n",
    "                               bins=[0,9,19,29,39,49,59,69,99],\n",
    "                               labels=['age<10','age between 10 and 20','age between 20 and 30',\n",
    "                                       'age between 30 and 40','age between 40 and 50',\n",
    "                                       'age between 50 and 60','age between 60 and 70','age>70']\n",
    "                              )\n",
    "adult_df['hour-per-week-class'] = pd.cut(adult_df['hours-per-week'],\n",
    "                               bins=[0,9,19,29,39,49,99],\n",
    "                               labels=['hour<10','hours between 10 and 20','hours between 20 and 30',\n",
    "                                       'hours between 30 and 40','hour between 40 and 50',\n",
    "                                       'hour>70']\n",
    "                              )\n",
    "adult_df = adult_df.join(pd.get_dummies(adult_df['education'])).drop('education',axis=1)\n",
    "adult_df = adult_df.join(pd.get_dummies(adult_df['marital-status'])).drop('marital-status',axis=1)\n",
    "adult_df = adult_df.join(pd.get_dummies(adult_df['occupation'])).drop('occupation',axis=1)\n",
    "adult_df = adult_df.join(pd.get_dummies(adult_df['relationship'])).drop('relationship',axis=1)\n",
    "adult_df = adult_df.join(pd.get_dummies(adult_df['native-country'])).drop('native-country',axis=1)\n",
    "adult_df = adult_df.join(pd.get_dummies(adult_df['age_class'])).drop('age_class',axis=1)\n",
    "adult_df = adult_df.join(pd.get_dummies(adult_df['hour-per-week-class'])).drop('hour-per-week-class',axis=1)\n",
    "adult_df.drop(labels=['hours-per-week','workclass','fnlwgt','capital-gain','capital-loss','age','education-num'],axis=1,inplace=True)\n",
    "adult_df['income'] = lab_enc.fit_transform(adult_df['income'])\n",
    "adult_df[['sex','race']] = ord_enc.fit_transform(adult_df[['sex','race']])"
   ]
  },
  {
   "cell_type": "markdown",
   "id": "75e8bd47-be65-4ea9-bf7a-0d4664f0d667",
   "metadata": {},
   "source": [
    "Create a StructuredDataset object to which apply fairness metrics and methods"
   ]
  },
  {
   "cell_type": "code",
   "execution_count": 9,
   "id": "d765df3e-bcb1-4938-80ce-61d9a4b18130",
   "metadata": {},
   "outputs": [],
   "source": [
    "data = BinaryLabelDataset(\n",
    "    favorable_label=1, unfavorable_label=0, df=adult_df, label_names=['income'], protected_attribute_names=['sex','race'])"
   ]
  },
  {
   "cell_type": "markdown",
   "id": "f05bf7e1-063a-4662-86c5-d4ca0ff6b712",
   "metadata": {},
   "source": [
    "Split data in training, testing set and validation set"
   ]
  },
  {
   "cell_type": "code",
   "execution_count": 10,
   "id": "a5873c08-24de-420e-b36c-2e395098c0de",
   "metadata": {},
   "outputs": [],
   "source": [
    "data_orig_train, data_orig_vt = data.split([0.7], shuffle=True)\n",
    "data_orig_valid, data_orig_test = data_orig_vt.split([0.5], shuffle=True)"
   ]
  },
  {
   "cell_type": "code",
   "execution_count": 11,
   "id": "afe066d2-f176-44e3-b623-d68ed827a701",
   "metadata": {},
   "outputs": [
    {
     "data": {
      "text/markdown": [
       "#### Training Dataset shape"
      ],
      "text/plain": [
       "<IPython.core.display.Markdown object>"
      ]
     },
     "metadata": {},
     "output_type": "display_data"
    },
    {
     "name": "stdout",
     "output_type": "stream",
     "text": [
      "(21658, 101)\n"
     ]
    },
    {
     "data": {
      "text/markdown": [
       "#### Protected attribute names"
      ],
      "text/plain": [
       "<IPython.core.display.Markdown object>"
      ]
     },
     "metadata": {},
     "output_type": "display_data"
    },
    {
     "name": "stdout",
     "output_type": "stream",
     "text": [
      "['sex', 'race']\n"
     ]
    },
    {
     "data": {
      "text/markdown": [
       "#### Favorable and unfavorable labels"
      ],
      "text/plain": [
       "<IPython.core.display.Markdown object>"
      ]
     },
     "metadata": {},
     "output_type": "display_data"
    },
    {
     "name": "stdout",
     "output_type": "stream",
     "text": [
      "1.0 0.0\n"
     ]
    },
    {
     "data": {
      "text/markdown": [
       "#### Privileged and unprivileged protected attribute values"
      ],
      "text/plain": [
       "<IPython.core.display.Markdown object>"
      ]
     },
     "metadata": {},
     "output_type": "display_data"
    },
    {
     "name": "stdout",
     "output_type": "stream",
     "text": [
      "[array([1.]), array([1.])] [array([0.]), array([0.])]\n"
     ]
    },
    {
     "data": {
      "text/markdown": [
       "#### Dataset feature names"
      ],
      "text/plain": [
       "<IPython.core.display.Markdown object>"
      ]
     },
     "metadata": {},
     "output_type": "display_data"
    },
    {
     "name": "stdout",
     "output_type": "stream",
     "text": [
      "['race', 'sex', ' 10th', ' 11th', ' 12th', ' 1st-4th', ' 5th-6th', ' 7th-8th', ' 9th', ' Assoc-acdm', ' Assoc-voc', ' Bachelors', ' Doctorate', ' HS-grad', ' Masters', ' Preschool', ' Prof-school', ' Some-college', ' Divorced', ' Married-AF-spouse', ' Married-civ-spouse', ' Married-spouse-absent', ' Never-married', ' Separated', ' Widowed', ' ?', ' Adm-clerical', ' Armed-Forces', ' Craft-repair', ' Exec-managerial', ' Farming-fishing', ' Handlers-cleaners', ' Machine-op-inspct', ' Other-service', ' Priv-house-serv', ' Prof-specialty', ' Protective-serv', ' Sales', ' Tech-support', ' Transport-moving', ' Husband', ' Not-in-family', ' Other-relative', ' Own-child', ' Unmarried', ' Wife', ' Cambodia', ' Canada', ' China', ' Columbia', ' Cuba', ' Dominican-Republic', ' Ecuador', ' El-Salvador', ' England', ' France', ' Germany', ' Greece', ' Guatemala', ' Haiti', ' Holand-Netherlands', ' Honduras', ' Hong', ' Hungary', ' India', ' Iran', ' Ireland', ' Italy', ' Jamaica', ' Japan', ' Mexico', ' Nicaragua', ' Outlying-US(Guam-USVI-etc)', ' Peru', ' Philippines', ' Poland', ' Portugal', ' Puerto-Rico', ' Scotland', ' South', ' Taiwan', ' Thailand', ' Trinadad&Tobago', ' United-States', ' Vietnam', ' Yugoslavia', 'Not known', 'age<10', 'age between 10 and 20', 'age between 20 and 30', 'age between 30 and 40', 'age between 40 and 50', 'age between 50 and 60', 'age between 60 and 70', 'age>70', 'hour<10', 'hours between 10 and 20', 'hours between 20 and 30', 'hours between 30 and 40', 'hour between 40 and 50', 'hour>70']\n"
     ]
    }
   ],
   "source": [
    "# print some informations\n",
    "display(Markdown(\"#### Training Dataset shape\"))\n",
    "print(data_orig_train.features.shape)\n",
    "display(Markdown(\"#### Protected attribute names\"))\n",
    "print(data_orig_train.protected_attribute_names)\n",
    "display(Markdown(\"#### Favorable and unfavorable labels\"))\n",
    "print(data_orig_train.favorable_label, data_orig_train.unfavorable_label)\n",
    "display(Markdown(\"#### Privileged and unprivileged protected attribute values\"))\n",
    "print(data_orig_train.privileged_protected_attributes, \n",
    "      data_orig_train.unprivileged_protected_attributes)\n",
    "display(Markdown(\"#### Dataset feature names\"))\n",
    "print(data_orig_train.feature_names)"
   ]
  },
  {
   "cell_type": "markdown",
   "id": "643446a6-9f7d-4b36-a11b-fdca48819888",
   "metadata": {},
   "source": [
    "### Compute bias metric on the original training data "
   ]
  },
  {
   "cell_type": "code",
   "execution_count": 12,
   "id": "ea06ecc9-dfe8-497d-918a-bfa238a3bca6",
   "metadata": {},
   "outputs": [],
   "source": [
    "unpriv_group = [{'sex': 0, 'race':0}]\n",
    "priv_group = [{'sex': 1, 'race':1}]"
   ]
  },
  {
   "cell_type": "code",
   "execution_count": 13,
   "id": "3b397541-c762-430f-9b6b-ea89e1ca90ce",
   "metadata": {},
   "outputs": [],
   "source": [
    "bm = BinaryLabelDatasetMetric(data_orig_train, \n",
    "                              privileged_groups=priv_group, \n",
    "                              unprivileged_groups=unpriv_group)"
   ]
  },
  {
   "cell_type": "markdown",
   "id": "b2297f7c-54a9-4a07-9731-f4ee984be4f4",
   "metadata": {},
   "source": [
    "Compute the _disparate impact_ metric defined as:\n",
    "$$\n",
    "\\frac{Pr(Y=1|D=unprivileged)}{Pr(Y=1|D=privileged)}\n",
    "$$"
   ]
  },
  {
   "cell_type": "code",
   "execution_count": 14,
   "id": "b7f757d3-0286-45be-b005-9ad5cc98f2f3",
   "metadata": {},
   "outputs": [
    {
     "name": "stdout",
     "output_type": "stream",
     "text": [
      "Disparate Impact: 0.176689\n"
     ]
    }
   ],
   "source": [
    "print(\"Disparate Impact: %f\" % bm.disparate_impact())"
   ]
  },
  {
   "cell_type": "markdown",
   "id": "6daf6f8b-744d-4ddb-b922-f7741773f3a2",
   "metadata": {},
   "source": [
    "### Train and transform the original data with Reweighing"
   ]
  },
  {
   "cell_type": "code",
   "execution_count": 15,
   "id": "0ac6d3f0-5e0a-4838-9401-1ad7111f4f4c",
   "metadata": {},
   "outputs": [],
   "source": [
    "rw = Reweighing(unprivileged_groups=unpriv_group, privileged_groups=priv_group)\n",
    "data_trans_train = rw.fit_transform(data_orig_train)"
   ]
  },
  {
   "cell_type": "markdown",
   "id": "4ff63234-876d-432a-97f4-d25ec70c4c6e",
   "metadata": {},
   "source": [
    "Compute the same metrics on the transformed data"
   ]
  },
  {
   "cell_type": "code",
   "execution_count": 16,
   "id": "c9fb6865-95b3-4e7e-829c-ab525872b9a3",
   "metadata": {},
   "outputs": [],
   "source": [
    "bm = BinaryLabelDatasetMetric(data_trans_train, \n",
    "                              privileged_groups=priv_group, \n",
    "                              unprivileged_groups=unpriv_group)"
   ]
  },
  {
   "cell_type": "code",
   "execution_count": 17,
   "id": "40b8a0a0-ca92-4de1-89dd-43b7aa5771d4",
   "metadata": {},
   "outputs": [
    {
     "name": "stdout",
     "output_type": "stream",
     "text": [
      "Disparate Impact: 1.000000\n"
     ]
    }
   ],
   "source": [
    "print(\"Disparate Impact: %f\" % bm.disparate_impact())"
   ]
  },
  {
   "cell_type": "markdown",
   "id": "8d8ce695-598b-4a11-813a-c36459386e45",
   "metadata": {},
   "source": [
    "The disparate impact is removed."
   ]
  },
  {
   "cell_type": "code",
   "execution_count": 18,
   "id": "a284273c-1eb6-4258-aa3f-9c7de817d71f",
   "metadata": {},
   "outputs": [
    {
     "data": {
      "text/plain": [
       "array([0.76515807, 1.        , 0.76515807, ..., 1.10956719, 1.        ,\n",
       "       0.80164001])"
      ]
     },
     "execution_count": 18,
     "metadata": {},
     "output_type": "execute_result"
    }
   ],
   "source": [
    "data_trans_train.instance_weights"
   ]
  },
  {
   "cell_type": "code",
   "execution_count": 19,
   "id": "4bf16de9-b1b2-4cbd-a529-9973b40a0637",
   "metadata": {},
   "outputs": [
    {
     "data": {
      "text/plain": [
       "True"
      ]
     },
     "execution_count": 19,
     "metadata": {},
     "output_type": "execute_result"
    }
   ],
   "source": [
    "np.array_equal(data_orig_train.labels, data_trans_train.labels)"
   ]
  },
  {
   "cell_type": "markdown",
   "id": "826189d6-058e-4cb9-8382-940449e5333e",
   "metadata": {},
   "source": [
    "The data labels are not changed"
   ]
  },
  {
   "cell_type": "code",
   "execution_count": 20,
   "id": "ca694a98-91c8-4748-9cc6-84a13a03afb2",
   "metadata": {},
   "outputs": [],
   "source": [
    "data_trans_test = rw.transform(data_orig_test)\n",
    "data_trans_valid = rw.transform(data_orig_valid)"
   ]
  },
  {
   "cell_type": "markdown",
   "id": "a6cbcba5-6a64-4543-8d83-7cbfc85a4cd2",
   "metadata": {},
   "source": [
    "## Train and test classifier on data"
   ]
  },
  {
   "cell_type": "code",
   "execution_count": 21,
   "id": "7415541d-ee79-4510-8e23-79cc3b1ddf75",
   "metadata": {},
   "outputs": [],
   "source": [
    "from sklearn.linear_model import LogisticRegression\n",
    "from sklearn.model_selection import cross_val_score \n",
    "from sklearn.pipeline import make_pipeline\n",
    "from sklearn.preprocessing import StandardScaler\n",
    "from collections import OrderedDict\n",
    "from aif360.metrics import ClassificationMetric\n",
    "\n",
    "def compute_metrics(dataset_true, dataset_pred, \n",
    "                    unprivileged_groups, privileged_groups,\n",
    "                    disp = True):\n",
    "    \"\"\" Compute the key metrics \"\"\"\n",
    "    classified_metric_pred = ClassificationMetric(dataset_true,\n",
    "                                                 dataset_pred, \n",
    "                                                 unprivileged_groups=unprivileged_groups,\n",
    "                                                 privileged_groups=privileged_groups)\n",
    "    metrics = OrderedDict()\n",
    "    metrics[\"Balanced accuracy\"] = 0.5*(classified_metric_pred.true_positive_rate()+\n",
    "                                             classified_metric_pred.true_negative_rate())\n",
    "    metrics[\"Statistical parity difference\"] = classified_metric_pred.statistical_parity_difference()\n",
    "    metrics[\"Disparate impact\"] = classified_metric_pred.disparate_impact()\n",
    "    metrics[\"Average odds difference\"] = classified_metric_pred.average_odds_difference()\n",
    "    metrics[\"Equal opportunity difference\"] = classified_metric_pred.equal_opportunity_difference()\n",
    "    metrics[\"Theil index\"] = classified_metric_pred.theil_index()\n",
    "    \n",
    "    if disp:\n",
    "        for k in metrics:\n",
    "            print(\"%s = %.4f\" % (k, metrics[k]))\n",
    "    \n",
    "    return metrics"
   ]
  },
  {
   "cell_type": "markdown",
   "id": "1ef12410-247e-4d45-b83b-53fe170c843c",
   "metadata": {},
   "source": [
    "### Train and test the model on unprocessed data and check the results:"
   ]
  },
  {
   "cell_type": "code",
   "execution_count": 22,
   "id": "1383494c-3ee5-4ddc-af6c-0ec5ad053d6b",
   "metadata": {},
   "outputs": [],
   "source": [
    "X_train = data_orig_train.features\n",
    "Y_train = data_orig_train.labels.ravel()\n",
    "X_test = data_orig_test.features\n",
    "Y_test = data_orig_test.labels.ravel()"
   ]
  },
  {
   "cell_type": "code",
   "execution_count": 23,
   "id": "25a8a0d9-527c-48c0-a352-96b77da61aa1",
   "metadata": {},
   "outputs": [],
   "source": [
    "pipe = make_pipeline(StandardScaler(), LogisticRegression())\n",
    "pipe_fit = pipe.fit(X_train, Y_train, logisticregression__sample_weight=data_orig_train.instance_weights.ravel())\n",
    "score = cross_val_score(pipe_fit, X_test, Y_test)"
   ]
  },
  {
   "cell_type": "code",
   "execution_count": 24,
   "id": "b9f7cdb1-f1fa-4fe0-b48c-c003836c97c4",
   "metadata": {},
   "outputs": [
    {
     "name": "stdout",
     "output_type": "stream",
     "text": [
      "Accuracy 0.832579\n"
     ]
    }
   ],
   "source": [
    "print(\"Accuracy %f\" % score.mean())"
   ]
  },
  {
   "cell_type": "markdown",
   "id": "50bff205-6d45-4c2d-9f6c-29eae0a425b1",
   "metadata": {},
   "source": [
    "The model has 83% of accuracy. Now compute some classification fairness metrics:"
   ]
  },
  {
   "cell_type": "code",
   "execution_count": 25,
   "id": "7537a439-74ab-47af-90b5-3d24e95bae63",
   "metadata": {},
   "outputs": [
    {
     "name": "stdout",
     "output_type": "stream",
     "text": [
      "Balanced accuracy = 0.7350\n",
      "Statistical parity difference = -0.2121\n",
      "Disparate impact = 0.1771\n",
      "Average odds difference = -0.1232\n",
      "Equal opportunity difference = -0.1473\n",
      "Theil index = 0.1387\n"
     ]
    }
   ],
   "source": [
    "data_origin_pred = data_orig_valid.copy()\n",
    "data_origin_pred.labels = pipe_fit.predict(data_orig_valid.features)\n",
    "metrics = compute_metrics(data_orig_valid, data_origin_pred, unpriv_group, priv_group)"
   ]
  },
  {
   "cell_type": "markdown",
   "id": "be43c089-34e1-437f-87a1-f7056556a2c6",
   "metadata": {},
   "source": [
    "### Train and test a model on bias processed data and check the results:"
   ]
  },
  {
   "cell_type": "code",
   "execution_count": 26,
   "id": "e353740f-2fbb-4f15-8dc6-0807cb8d178c",
   "metadata": {},
   "outputs": [],
   "source": [
    "X_trans_train = data_trans_train.features\n",
    "Y_trans_train = data_trans_train.labels.ravel()\n",
    "data_trans_test = rw.transform(data_orig_test)\n",
    "X_trans_test = data_trans_test.features\n",
    "Y_trans_test = data_trans_test.labels.ravel()"
   ]
  },
  {
   "cell_type": "code",
   "execution_count": 27,
   "id": "36fc611d-1892-44ae-85f8-457df4ae381f",
   "metadata": {},
   "outputs": [],
   "source": [
    "pipe = make_pipeline(StandardScaler(), LogisticRegression())\n",
    "pipe_trans = pipe.fit(X_trans_train, Y_trans_train, logisticregression__sample_weight=data_trans_train.instance_weights.ravel())\n",
    "score = cross_val_score(pipe_trans, X_trans_test, Y_trans_test, fit_params={\"logisticregression__sample_weight\": data_trans_test.instance_weights.ravel()})"
   ]
  },
  {
   "cell_type": "code",
   "execution_count": 28,
   "id": "f89ad9a9-551b-4a8a-947e-ecc41558b678",
   "metadata": {},
   "outputs": [
    {
     "name": "stdout",
     "output_type": "stream",
     "text": [
      "Accuracy 0.829131\n"
     ]
    }
   ],
   "source": [
    "print(\"Accuracy %f\" % score.mean())"
   ]
  },
  {
   "cell_type": "code",
   "execution_count": 29,
   "id": "f4a61447-dfe7-40e5-8bf3-265a7c0869ac",
   "metadata": {},
   "outputs": [
    {
     "name": "stdout",
     "output_type": "stream",
     "text": [
      "Balanced accuracy = 0.7094\n",
      "Statistical parity difference = 0.0403\n",
      "Disparate impact = 1.2469\n",
      "Average odds difference = 0.0276\n",
      "Equal opportunity difference = 0.0697\n",
      "Theil index = 0.1553\n"
     ]
    }
   ],
   "source": [
    "data_trans_pred = data_trans_valid.copy()\n",
    "data_trans_pred.labels = pipe_trans.predict(data_trans_valid.features)\n",
    "metrics_pred = compute_metrics(data_trans_valid, data_trans_pred, unpriv_group, priv_group)"
   ]
  },
  {
   "cell_type": "code",
   "execution_count": 30,
   "id": "fa10510d-8049-4cfd-b710-728295ea7d83",
   "metadata": {},
   "outputs": [
    {
     "data": {
      "image/png": "[encoded data removed]",
      "text/plain": [
       "<Figure size 1224x360 with 2 Axes>"
      ]
     },
     "metadata": {},
     "output_type": "display_data"
    }
   ],
   "source": [
    "fig,ax = plt.subplots(1,2,figsize=(17,5))\n",
    "keys = list(metrics.keys())\n",
    "vals = [float(metrics[k]) for k in keys]\n",
    "sns.barplot(x=keys, y=vals,ax=ax[0])\n",
    "keys = list(metrics_pred.keys())\n",
    "vals = [float(metrics_pred[k]) for k in keys]\n",
    "sns.barplot(x=keys, y=vals,ax=ax[1])\n",
    "ax[0].tick_params(labelrotation=90)\n",
    "ax[1].tick_params(labelrotation=90)\n",
    "ax[0].set(title='Unweighed dataset')\n",
    "ax[1].tick_params(labelrotation=90)\n",
    "ax[1].set(title='Weighed dataset')\n",
    "plt.show()"
   ]
  },
  {
   "cell_type": "code",
   "execution_count": null,
   "id": "6ed42739-c528-4fc5-b7a8-eeabaa686cdd",
   "metadata": {},
   "outputs": [],
   "source": []
  }
 ],
 "metadata": {
  "kernelspec": {
   "display_name": "Python 3",
   "language": "python",
   "name": "python3"
  },
  "language_info": {
   "codemirror_mode": {
    "name": "ipython",
    "version": 3
   },
   "file_extension": ".py",
   "mimetype": "text/x-python",
   "name": "python",
   "nbconvert_exporter": "python",
   "pygments_lexer": "ipython3",
   "version": "3.8.8"
  }
 },
 "nbformat": 4,
 "nbformat_minor": 5
}
