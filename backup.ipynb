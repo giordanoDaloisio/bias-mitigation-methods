{
 "cells": [
  {
   "cell_type": "markdown",
   "id": "f20584c5-52ad-42bc-8571-962f319ab7f4",
   "metadata": {},
   "source": [
    "### Learned Fair Representations"
   ]
  },
  {
   "cell_type": "markdown",
   "id": "e6a3e618-2767-4c9d-b0c1-5d77451031d4",
   "metadata": {},
   "source": [
    "LFR is a model that aims to create a new representation of data where any information that can identify whether the person belongs to\n",
    "the protected subgroup is lost, while retaining as much other information as possible. In other words finds a representation that encodes the data well but obfuscates information about protected attributes."
   ]
  },
  {
   "cell_type": "code",
   "execution_count": 29,
   "id": "7d17534f-a4b0-4d76-b78e-e849fc050808",
   "metadata": {},
   "outputs": [],
   "source": [
    "#lfr_data = bias_data.copy()\n",
    "#lfr_train, lfr_test, lfr_valid = split_data(lfr_data, [10], ['s'])\n",
    "#lfr = LFR(unprivileged_group, privileged_group, verbose=True, Ax=0.1, Ay=1.0, Az=5.0)"
   ]
  },
  {
   "cell_type": "code",
   "execution_count": 30,
   "id": "53a4dcb6-6229-467d-a3ab-5f23cc79549d",
   "metadata": {},
   "outputs": [],
   "source": [
    "#lfr.fit(lfr_train, maxiter=10000)"
   ]
  },
  {
   "cell_type": "code",
   "execution_count": 31,
   "id": "2503fcab-1a45-4965-aa80-d71abfb86d07",
   "metadata": {},
   "outputs": [],
   "source": [
    "#lfr_train_trans = lfr.transform(lfr_train)"
   ]
  },
  {
   "cell_type": "code",
   "execution_count": 32,
   "id": "6eed0af1-2d0c-46df-b3f7-3c3aae820cfc",
   "metadata": {},
   "outputs": [],
   "source": [
    "#lfr_test.features = lfr.transform()"
   ]
  },
  {
   "cell_type": "code",
   "execution_count": 33,
   "id": "4fd4ad04-8d09-45ae-9cfb-2f0379eaf38b",
   "metadata": {},
   "outputs": [],
   "source": [
    "#print(classification_report(lfr_train.labels, lfr_train_trans.labels))"
   ]
  },
  {
   "cell_type": "code",
   "execution_count": 34,
   "id": "e386a895-976a-4767-a9a1-d4d8d0be8466",
   "metadata": {},
   "outputs": [],
   "source": [
    "#x_train = lfr_train_trans.features\n",
    "#y_train = lfr_train_trans.labels.ravel()\n",
    "#x_test = lfr_test.features\n",
    "#y_test = lfr_test.labels.ravel()\n",
    "#lfr_pipe = make_pipeline(StandardScaler(), LogisticRegression())\n",
    "#lfr_pipe.fit(x_train, y_train)\n",
    "#lfr_score = cross_val_score(lfr_pipe, x_test, y_test)\n",
    "#print(\"LFR accuracy: %f\" % np.mean(lfr_score))"
   ]
  },
  {
   "cell_type": "code",
   "execution_count": 35,
   "id": "3aeaa4b5-c51f-421e-abb4-c005353a72bb",
   "metadata": {},
   "outputs": [],
   "source": [
    "#pred = lfr_valid.copy()\n",
    "#pred.labels = lfr_pipe.predict(pred.features)\n",
    "#plot_classification_report(classification_report(lfr_valid.labels, pred.labels))\n",
    "#plot_confusion_matrix(lfr_valid.labels, pred.labels, {'0', '1'}, normalize=True)\n",
    "#plt.show()\n",
    "\n",
    "#lfr_class_metrics = compute_fairness_metrics(lfr_valid, pred, unprivileged_group, privileged_group)"
   ]
  },
  {
   "cell_type": "code",
   "execution_count": 36,
   "id": "67a15cbb-4e48-49e5-be1b-d9bb7843824f",
   "metadata": {},
   "outputs": [],
   "source": [
    "#plot_metrics_comparison(bias_class_metrics, lfr_class_metrics, \"Bias dataset\", \"LFR dataset\")\n",
    "#plot_metrics_comparison(rw_class_metrics, lfr_class_metrics, \"Reweighed dataset\", \"LFR dataset\")\n",
    "#plot_metrics_comparison(dr_class_metrics, lfr_class_metrics, \"Disparate Impact Removed dataset\", \"LFR dataset\")\n",
    "#plt.show()"
   ]
  },
  {
   "cell_type": "code",
   "execution_count": 37,
   "id": "5e97bfba-c9e0-463b-bc22-999d3cf3fb1d",
   "metadata": {},
   "outputs": [],
   "source": [
    "#df_metrics = pd.DataFrame.from_records(dict(bias_class_metrics),index=[0])\n",
    "#df_metrics['dataset'] = 'Bias Dataset'\n",
    "#df_metrics = df_metrics.append(dict(rw_class_metrics), ignore_index=True)\n",
    "#df_metrics.loc[1,'dataset'] = 'Reweighed Dataset'\n",
    "#df_metrics = df_metrics.append(dict(dr_class_metrics), ignore_index=True)\n",
    "#df_metrics.loc[2,'dataset'] = 'Disparate Impact Removed Dataset'\n",
    "#df_metrics = df_metrics.append(dict(lfr_class_metrics), ignore_index=True)\n",
    "#df_metrics.loc[3,'dataset'] = 'Learned Fair Representation Dataset'\n",
    "#df_metrics = df_metrics.melt(id_vars='dataset', value_name='value', var_name='metric')"
   ]
  },
  {
   "cell_type": "code",
   "execution_count": 92,
   "id": "da908878-ecf2-4f50-b6a0-fe537ab8b1dc",
   "metadata": {},
   "outputs": [],
   "source": [
    "#fig, ax = plt.subplots(1,1,figsize=(10,5))\n",
    "#sns.barplot(data=df_metrics, x='metric', y='value', hue='dataset', ax=ax)\n",
    "#ax.tick_params(labelrotation=90)\n",
    "#for p in ax.patches:\n",
    "#    ax.annotate(str(round(p.get_height(),2)), (p.get_x() * 1.005, p.get_height() * 1.005))\n",
    "#plt.show()"
   ]
  }
 ],
 "metadata": {
  "kernelspec": {
   "display_name": "Python 3",
   "language": "python",
   "name": "python3"
  },
  "language_info": {
   "codemirror_mode": {
    "name": "ipython",
    "version": 3
   },
   "file_extension": ".py",
   "mimetype": "text/x-python",
   "name": "python",
   "nbconvert_exporter": "python",
   "pygments_lexer": "ipython3",
   "version": "3.8.8"
  }
 },
 "nbformat": 4,
 "nbformat_minor": 5
}
